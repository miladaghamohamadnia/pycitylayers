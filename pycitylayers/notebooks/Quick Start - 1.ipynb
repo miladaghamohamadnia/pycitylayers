{
 "cells": [
  {
   "cell_type": "markdown",
   "id": "8f6f59d2",
   "metadata": {},
   "source": [
    "# Quick Start - pyCityLayers"
   ]
  },
  {
   "cell_type": "markdown",
   "id": "7fe37dc9",
   "metadata": {},
   "source": [
    "# Access to Internal (CERC) Data"
   ]
  },
  {
   "cell_type": "markdown",
   "id": "a5009910",
   "metadata": {},
   "source": [
    "#### --------------------------------------------------------------------------------------------------------------------------------------------------------"
   ]
  },
  {
   "cell_type": "code",
   "execution_count": null,
   "id": "66d5edbb",
   "metadata": {},
   "outputs": [],
   "source": [
    "import numpy as np\n",
    "import json\n",
    "from pprint import pprint\n",
    "import fiona\n",
    "from shapely.geometry import Polygon, Point, MultiPolygon\n",
    "from pycitylayers.client import Client\n",
    "from pycitylayers.utils import PointGQL, PolygonGQL\n"
   ]
  },
  {
   "cell_type": "markdown",
   "id": "e9249045",
   "metadata": {},
   "source": [
    "### Create an instance of connection to database"
   ]
  },
  {
   "cell_type": "code",
   "execution_count": null,
   "id": "96421430",
   "metadata": {},
   "outputs": [],
   "source": [
    "client = Client().create(source='cerc')"
   ]
  },
  {
   "cell_type": "markdown",
   "id": "bed209f6",
   "metadata": {},
   "source": [
    "### Querying for all collections available in the database"
   ]
  },
  {
   "cell_type": "code",
   "execution_count": null,
   "id": "7320c7be",
   "metadata": {},
   "outputs": [],
   "source": [
    "coll = client.collection\n",
    "pprint(coll)"
   ]
  },
  {
   "cell_type": "markdown",
   "id": "9f25f783",
   "metadata": {},
   "source": [
    "### Show all datasets in the collection"
   ]
  },
  {
   "cell_type": "code",
   "execution_count": null,
   "id": "ffa96698",
   "metadata": {},
   "outputs": [],
   "source": [
    "coll.datasets"
   ]
  },
  {
   "cell_type": "code",
   "execution_count": null,
   "id": "f38672af",
   "metadata": {},
   "outputs": [],
   "source": [
    "ds = coll[2]\n",
    "ds"
   ]
  },
  {
   "cell_type": "markdown",
   "id": "7efd8da2",
   "metadata": {},
   "source": [
    "### Show all tables in a dataset"
   ]
  },
  {
   "cell_type": "code",
   "execution_count": null,
   "id": "748ba67c",
   "metadata": {},
   "outputs": [],
   "source": [
    "ds.tables"
   ]
  },
  {
   "cell_type": "markdown",
   "id": "065d3c07",
   "metadata": {},
   "source": [
    "### Show all columns in a table"
   ]
  },
  {
   "cell_type": "code",
   "execution_count": null,
   "id": "35f5636f",
   "metadata": {},
   "outputs": [],
   "source": [
    "tb = ds[0]\n",
    "columns = tb.columns\n",
    "pprint(columns)"
   ]
  },
  {
   "cell_type": "markdown",
   "id": "6ecaf284",
   "metadata": {},
   "source": [
    "### Get N rows from a table given a list of columns "
   ]
  },
  {
   "cell_type": "code",
   "execution_count": null,
   "id": "fbd35f7d",
   "metadata": {},
   "outputs": [],
   "source": [
    "query_options = {\n",
    "    'columns': ['code', 'geom', 'index', 'name', 'year'], \n",
    "    'nrows': 500, \n",
    "    'skiprows': 0,\n",
    "}\n",
    "\n",
    "data = tb.query_simple( columns=['code', 'geom', 'index', 'name', 'year'], nrows=500 )\n",
    "# data = tb.query_simple( **query_options )\n",
    "\n",
    "print(\"Table Size: \", data.shape)\n",
    "data\n"
   ]
  },
  {
   "cell_type": "code",
   "execution_count": null,
   "id": "3498bd17",
   "metadata": {},
   "outputs": [],
   "source": []
  },
  {
   "cell_type": "code",
   "execution_count": null,
   "id": "14329c6d",
   "metadata": {},
   "outputs": [],
   "source": [
    "import geopandas as gpd\n",
    "import matplotlib.pyplot as plt\n",
    "\n",
    "list_of_points = [ Point(row['geom']['coordinates']) for _, row in data.iterrows() ]\n",
    "\n",
    "gdf = gpd.GeoDataFrame(index=list(range(len(list_of_points))), crs='epsg:4326', geometry=list_of_points)\n",
    "\n",
    "# load neighbourhood shape file\n",
    "mtl_neighs = gpd.read_file('montreal_neighs.geojson')\n",
    "\n",
    "\n",
    "fig, ax = plt.subplots(figsize=(12, 10))\n",
    "mtl_neighs.plot(ax=ax, color=None, alpha=0.69, facecolor='white', edgecolor='black', linewidth=1)\n",
    "gdf.plot(ax=ax, color='r', alpha=0.2, facecolor='red', edgecolor=None, linewidth=0)\n",
    "\n",
    "ax.set_xlim(-74.05, -73.4)\n",
    "ax.set_ylim(45.35, 45.75)\n",
    "\n"
   ]
  },
  {
   "cell_type": "markdown",
   "id": "502a648a",
   "metadata": {},
   "source": [
    "### Get N rows from a table given a list of columns and distance to a point"
   ]
  },
  {
   "cell_type": "code",
   "execution_count": null,
   "id": "e0c9ccb9",
   "metadata": {},
   "outputs": [],
   "source": [
    "query_geometry = PointGQL().point(-73.64453315734863,45.46627091868821)\n",
    "print( query_geometry )\n",
    "\n",
    "\n",
    "query_options = {\n",
    "    'columns': ['code', 'name', 'year'], \n",
    "    'nrows': 500, \n",
    "    'skiprows': 0,\n",
    "    'geometry_operation': 'distance_from_point',\n",
    "    'geom_distance': 0.015,\n",
    "    'geometry': query_geometry,\n",
    "    'crs_epsg': 4326,\n",
    "}\n",
    "\n",
    "data = tb.query_simple( **query_options )\n",
    "\n",
    "print(\"Table Size: \", data.shape)\n",
    "data\n"
   ]
  },
  {
   "cell_type": "code",
   "execution_count": null,
   "id": "8e2cb559",
   "metadata": {},
   "outputs": [],
   "source": []
  },
  {
   "cell_type": "code",
   "execution_count": null,
   "id": "8da7b4c2",
   "metadata": {},
   "outputs": [],
   "source": [
    "ds = coll.search(by_name=\"lots\")[0]\n",
    "tb = ds[0]\n",
    "tb"
   ]
  },
  {
   "cell_type": "code",
   "execution_count": null,
   "id": "b241377b",
   "metadata": {
    "scrolled": true
   },
   "outputs": [],
   "source": [
    "query_geometry = PointGQL().point(-73.64453315734863,45.46627091868821)\n",
    "print( query_geometry )\n",
    "\n",
    "\n",
    "query_options = {\n",
    "    'columns': ['index', 'built_area', 'geom', 'year_built'], \n",
    "    'nrows': 10000, \n",
    "    'skiprows': 0,\n",
    "    'geometry_operation': 'distance_from_point',\n",
    "    'geom_distance': 0.005,\n",
    "    'geometry': query_geometry,\n",
    "    'crs_epsg': 4326,\n",
    "}\n",
    "\n",
    "data = tb.query_simple( **query_options )\n",
    "\n",
    "print(\"Table Size: \", data.shape)\n",
    "data\n"
   ]
  },
  {
   "cell_type": "code",
   "execution_count": null,
   "id": "a802f4ca",
   "metadata": {},
   "outputs": [],
   "source": [
    "import geopandas as gpd\n",
    "import matplotlib.pyplot as plt\n",
    "\n",
    "list_of_polygons = [Polygon([Point(el) for el in poly['geom']['coordinates'][0]]) for _,poly in data.iterrows()]\n",
    "\n",
    "gdf = gpd.GeoDataFrame(index=list(range(len(data))), crs='epsg:4326', geometry=list_of_polygons)\n",
    "\n",
    "gdf.plot(color='r', alpha=0.7, facecolor='white', edgecolor='black', linewidth=2, figsize=(12,12))\n"
   ]
  },
  {
   "cell_type": "code",
   "execution_count": null,
   "id": "814492d2",
   "metadata": {},
   "outputs": [],
   "source": []
  },
  {
   "cell_type": "markdown",
   "id": "a8d923b5",
   "metadata": {},
   "source": [
    "### Get N rows from a table given a list of columns and within a polygon"
   ]
  },
  {
   "cell_type": "code",
   "execution_count": null,
   "id": "afa1749b",
   "metadata": {},
   "outputs": [],
   "source": [
    "query_geometry = PolygonGQL().rect_from_two_corners([-73.643610,45.468896], [-73.623610,45.458896])\n",
    "print( query_geometry )\n",
    "\n",
    "\n",
    "query_options = {\n",
    "    'columns': ['index', 'built_area', 'geom', 'year_built'], \n",
    "    'nrows': 10000, \n",
    "    'skiprows': 0,\n",
    "    'geometry_operation': 'is_within_poly',\n",
    "    'geometry': query_geometry,\n",
    "    'crs_epsg': 4326,\n",
    "}\n",
    "\n",
    "data = tb.query_simple( **query_options )\n",
    "\n",
    "print(\"Table Size: \", data.shape)\n",
    "data"
   ]
  },
  {
   "cell_type": "markdown",
   "id": "d58ad733",
   "metadata": {},
   "source": [
    "## visualize results"
   ]
  },
  {
   "cell_type": "code",
   "execution_count": null,
   "id": "f565b539",
   "metadata": {},
   "outputs": [],
   "source": [
    "import geopandas as gpd\n",
    "import matplotlib.pyplot as plt\n",
    "\n",
    "def rgb(minimum, maximum, value):\n",
    "    if value < minimum: value = minimum\n",
    "    if value > maximum: value = maximum\n",
    "    minimum, maximum = float(minimum), float(maximum)\n",
    "    ratio = 2 * (value-minimum) / (maximum - minimum)\n",
    "    b = int(max(0, 255*(1 - ratio)))\n",
    "    r = int(max(0, 255*(ratio - 1)))\n",
    "    g = 255 - b - r\n",
    "    return [r/255, g/255, b/255]\n",
    "\n",
    "list_of_polygons = [Polygon([Point(el) for el in poly['geom']['coordinates'][0]]) for _, poly in data.iterrows()]\n",
    "\n",
    "gdf = gpd.GeoDataFrame(index=list(range(len(data))), crs='epsg:4326', geometry=list_of_polygons)\n",
    "colors = data['year_built'].apply(lambda x: rgb(1900,2020,x))\n",
    "gdf.plot(color=colors, alpha=0.7, facecolor='white', edgecolor='black', linewidth=2, figsize=(12,12))\n",
    "\n"
   ]
  },
  {
   "cell_type": "code",
   "execution_count": null,
   "id": "996b0880",
   "metadata": {},
   "outputs": [],
   "source": []
  },
  {
   "cell_type": "markdown",
   "id": "c4c62358",
   "metadata": {},
   "source": [
    "## Save as file"
   ]
  },
  {
   "cell_type": "code",
   "execution_count": null,
   "id": "e650e26b",
   "metadata": {},
   "outputs": [],
   "source": [
    "from pathlib import Path  \n",
    "filepath = Path('folder/subfolder/out.csv')  \n",
    "filepath.parent.mkdir(parents=True, exist_ok=True)  \n",
    "df.to_csv(filepath)"
   ]
  },
  {
   "cell_type": "code",
   "execution_count": null,
   "id": "de4604e3",
   "metadata": {},
   "outputs": [],
   "source": []
  },
  {
   "cell_type": "code",
   "execution_count": null,
   "id": "5cb97360",
   "metadata": {},
   "outputs": [],
   "source": []
  },
  {
   "cell_type": "code",
   "execution_count": null,
   "id": "ed22f65f",
   "metadata": {},
   "outputs": [],
   "source": []
  },
  {
   "cell_type": "code",
   "execution_count": null,
   "id": "573e82eb",
   "metadata": {},
   "outputs": [],
   "source": []
  },
  {
   "cell_type": "code",
   "execution_count": null,
   "id": "15c65a51",
   "metadata": {},
   "outputs": [],
   "source": []
  },
  {
   "cell_type": "code",
   "execution_count": null,
   "id": "c6d4f07a",
   "metadata": {},
   "outputs": [],
   "source": []
  },
  {
   "cell_type": "code",
   "execution_count": null,
   "id": "bea727d8",
   "metadata": {},
   "outputs": [],
   "source": []
  },
  {
   "cell_type": "code",
   "execution_count": null,
   "id": "4c05ea7d",
   "metadata": {},
   "outputs": [],
   "source": []
  },
  {
   "cell_type": "code",
   "execution_count": null,
   "id": "18066a04",
   "metadata": {},
   "outputs": [],
   "source": []
  },
  {
   "cell_type": "code",
   "execution_count": null,
   "id": "a8476872",
   "metadata": {},
   "outputs": [],
   "source": []
  },
  {
   "cell_type": "code",
   "execution_count": null,
   "id": "6139aa9d",
   "metadata": {},
   "outputs": [],
   "source": []
  },
  {
   "cell_type": "code",
   "execution_count": null,
   "id": "06f77744",
   "metadata": {},
   "outputs": [],
   "source": []
  }
 ],
 "metadata": {
  "kernelspec": {
   "display_name": "Python 3 (ipykernel)",
   "language": "python",
   "name": "python3"
  },
  "language_info": {
   "codemirror_mode": {
    "name": "ipython",
    "version": 3
   },
   "file_extension": ".py",
   "mimetype": "text/x-python",
   "name": "python",
   "nbconvert_exporter": "python",
   "pygments_lexer": "ipython3",
   "version": "3.8.13"
  }
 },
 "nbformat": 4,
 "nbformat_minor": 5
}
