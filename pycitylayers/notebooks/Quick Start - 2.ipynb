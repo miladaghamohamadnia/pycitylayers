{
 "cells": [
  {
   "cell_type": "markdown",
   "id": "8f6f59d2",
   "metadata": {},
   "source": [
    "\n",
    "# Quick Start - pyCityLayers\n"
   ]
  },
  {
   "cell_type": "markdown",
   "id": "5b43b5a2",
   "metadata": {},
   "source": [
    "# Access to External (Quebec) Data"
   ]
  },
  {
   "cell_type": "markdown",
   "id": "37e42d03",
   "metadata": {},
   "source": [
    "#### --------------------------------------------------------------------------------------------------------------------------------------------------------"
   ]
  },
  {
   "cell_type": "code",
   "execution_count": null,
   "id": "66d5edbb",
   "metadata": {},
   "outputs": [],
   "source": [
    "import numpy as np\n",
    "import json\n",
    "from pprint import pprint\n",
    "import fiona\n",
    "from shapely.geometry import Polygon, Point, MultiPolygon\n",
    "from pycitylayers.client import Client\n",
    "from pycitylayers.utils import PointGQL, PolygonGQL\n"
   ]
  },
  {
   "cell_type": "markdown",
   "id": "e9249045",
   "metadata": {},
   "source": [
    "### Create an instance of client to database"
   ]
  },
  {
   "cell_type": "code",
   "execution_count": null,
   "id": "96421430",
   "metadata": {},
   "outputs": [],
   "source": [
    "client = Client().create(source=\"quebec\")\n"
   ]
  },
  {
   "cell_type": "code",
   "execution_count": null,
   "id": "7320c7be",
   "metadata": {},
   "outputs": [],
   "source": [
    "coll = client.collection\n",
    "print(coll) "
   ]
  },
  {
   "cell_type": "code",
   "execution_count": null,
   "id": "f31f3844",
   "metadata": {},
   "outputs": [],
   "source": [
    "sub_coll, indices = coll.search(by_name='crim', return_indices=True)\n",
    "sub_coll"
   ]
  },
  {
   "cell_type": "code",
   "execution_count": null,
   "id": "396b7cab",
   "metadata": {},
   "outputs": [],
   "source": [
    "ds = sub_coll[0]\n",
    "ds"
   ]
  },
  {
   "cell_type": "code",
   "execution_count": null,
   "id": "eefefa4e",
   "metadata": {
    "scrolled": true
   },
   "outputs": [],
   "source": [
    "ds.tables"
   ]
  },
  {
   "cell_type": "code",
   "execution_count": null,
   "id": "09ab4c93",
   "metadata": {},
   "outputs": [],
   "source": [
    "tb = ds[1]\n",
    "tb"
   ]
  },
  {
   "cell_type": "code",
   "execution_count": null,
   "id": "b4a9ddd3",
   "metadata": {},
   "outputs": [],
   "source": [
    "tb.columns"
   ]
  },
  {
   "cell_type": "code",
   "execution_count": null,
   "id": "3e8c6920",
   "metadata": {},
   "outputs": [],
   "source": [
    "tb.num_rows"
   ]
  },
  {
   "cell_type": "markdown",
   "id": "6ecaf284",
   "metadata": {},
   "source": [
    "### Get N rows from a table given a list of columns "
   ]
  },
  {
   "cell_type": "code",
   "execution_count": null,
   "id": "fbd35f7d",
   "metadata": {},
   "outputs": [],
   "source": [
    "query_options = {\n",
    "    'columns': ['LONGITUDE', 'LATITUDE', 'PDQ'], \n",
    "    'nrows': 10000, \n",
    "    'skiprows': 0,\n",
    "}\n",
    "\n",
    "data = tb.query_simple( **query_options )\n",
    "\n",
    "data"
   ]
  },
  {
   "cell_type": "code",
   "execution_count": null,
   "id": "cf37cc9b",
   "metadata": {},
   "outputs": [],
   "source": [
    "import geopandas as gpd\n",
    "import matplotlib.pyplot as plt\n",
    "\n",
    "list_of_points = [ Point((float(row['LONGITUDE']), float(row['LATITUDE']))) for _, row in data.iterrows() ]\n",
    "\n",
    "gdf = gpd.GeoDataFrame(index=list(range(len(list_of_points))), crs='epsg:4326', geometry=list_of_points)\n",
    "\n",
    "# load neighbourhood shape file\n",
    "mtl_neighs = gpd.read_file('montreal_neighs.geojson')\n",
    "\n",
    "\n",
    "fig, ax = plt.subplots(figsize=(12, 10))\n",
    "sizes = data['PDQ'].apply(lambda x: int(x)*0.1)\n",
    "gdf.plot(ax=ax, color='b', markersize=sizes, alpha=0.8)\n",
    "mtl_neighs.plot(ax=ax, color=None, alpha=0.22, facecolor='white', edgecolor='black', linewidth=1)\n",
    "\n",
    "\n",
    "ax.set_xlim(-74.05, -73.4)\n",
    "ax.set_ylim(45.35, 45.75)\n",
    "\n"
   ]
  },
  {
   "cell_type": "markdown",
   "id": "ced9a23e",
   "metadata": {},
   "source": [
    "### Advanced Query\n"
   ]
  },
  {
   "cell_type": "code",
   "execution_count": null,
   "id": "3ebdbd91",
   "metadata": {},
   "outputs": [],
   "source": [
    "sql_string = f'SELECT \"num_route\", \"conviviali\" FROM \"{tb._id}\" LIMIT 6 '\n",
    "print(sql_string)\n",
    "\n",
    "data = tb.query_sql(sql_string)\n",
    "\n",
    "data"
   ]
  },
  {
   "cell_type": "markdown",
   "id": "dda01ed2",
   "metadata": {},
   "source": [
    "## save to file"
   ]
  },
  {
   "cell_type": "code",
   "execution_count": null,
   "id": "8b82ad3f",
   "metadata": {},
   "outputs": [],
   "source": [
    "tb = ds[2]\n",
    "tb"
   ]
  },
  {
   "cell_type": "code",
   "execution_count": null,
   "id": "e650e26b",
   "metadata": {},
   "outputs": [],
   "source": [
    "tb.to_file(output_dir=\"downloads\")"
   ]
  },
  {
   "cell_type": "code",
   "execution_count": null,
   "id": "de4604e3",
   "metadata": {},
   "outputs": [],
   "source": []
  },
  {
   "cell_type": "code",
   "execution_count": null,
   "id": "5cb97360",
   "metadata": {},
   "outputs": [],
   "source": []
  },
  {
   "cell_type": "code",
   "execution_count": null,
   "id": "ed22f65f",
   "metadata": {},
   "outputs": [],
   "source": []
  },
  {
   "cell_type": "code",
   "execution_count": null,
   "id": "573e82eb",
   "metadata": {},
   "outputs": [],
   "source": []
  },
  {
   "cell_type": "code",
   "execution_count": null,
   "id": "15c65a51",
   "metadata": {},
   "outputs": [],
   "source": []
  },
  {
   "cell_type": "code",
   "execution_count": null,
   "id": "c6d4f07a",
   "metadata": {},
   "outputs": [],
   "source": []
  },
  {
   "cell_type": "code",
   "execution_count": null,
   "id": "bea727d8",
   "metadata": {},
   "outputs": [],
   "source": []
  },
  {
   "cell_type": "code",
   "execution_count": null,
   "id": "4c05ea7d",
   "metadata": {},
   "outputs": [],
   "source": []
  },
  {
   "cell_type": "code",
   "execution_count": null,
   "id": "18066a04",
   "metadata": {},
   "outputs": [],
   "source": []
  },
  {
   "cell_type": "code",
   "execution_count": null,
   "id": "a8476872",
   "metadata": {},
   "outputs": [],
   "source": []
  },
  {
   "cell_type": "code",
   "execution_count": null,
   "id": "6139aa9d",
   "metadata": {},
   "outputs": [],
   "source": []
  },
  {
   "cell_type": "code",
   "execution_count": null,
   "id": "06f77744",
   "metadata": {},
   "outputs": [],
   "source": []
  }
 ],
 "metadata": {
  "kernelspec": {
   "display_name": "Python 3 (ipykernel)",
   "language": "python",
   "name": "python3"
  },
  "language_info": {
   "codemirror_mode": {
    "name": "ipython",
    "version": 3
   },
   "file_extension": ".py",
   "mimetype": "text/x-python",
   "name": "python",
   "nbconvert_exporter": "python",
   "pygments_lexer": "ipython3",
   "version": "3.8.13"
  }
 },
 "nbformat": 4,
 "nbformat_minor": 5
}
